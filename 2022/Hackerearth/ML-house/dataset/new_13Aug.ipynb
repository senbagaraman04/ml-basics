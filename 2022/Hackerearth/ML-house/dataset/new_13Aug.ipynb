{
 "cells": [
  {
   "cell_type": "markdown",
   "metadata": {},
   "source": [
    "#"
   ]
  },
  {
   "cell_type": "code",
   "execution_count": 58,
   "metadata": {},
   "outputs": [],
   "source": [
    "# v1 - Score : 46.79740\n",
    "# v2 - Score : 80.27545 (Without dropping any cols)\n",
    "# v3 : Drop the window column and try again with same data Score: 80.31228\n",
    "#v4 : v3 + Drop the NA values - 81.63122\n",
    "# v5: v4 + nestimator as 600  Score: 82.20511\n",
    "#v6: v5+ nestimator as 700 Score: 82.15082    -- SCORE DROPPEDDDD\n",
    "# v6.1 : v5 + max depth only as 6 Score: 80.93618  -- SCORE DROPPEDDDD\n",
    "#v6.2 : v5 + max depth as 8,9,10 : Score:  82.20511\n",
    "#v6.3 : Score : 82.48"
   ]
  },
  {
   "cell_type": "code",
   "execution_count": 59,
   "metadata": {},
   "outputs": [],
   "source": [
    "#Import the libraries\n",
    "\n",
    "import numpy as np;\n",
    "import pandas as pd\n",
    "import seaborn as sns\n",
    "import matplotlib.pyplot as plt\n",
    "\n",
    "# Import label encoder\n",
    "from sklearn import preprocessing\n",
    "\n",
    "import xgboost as xgb\n",
    "from xgboost.sklearn import XGBRegressor\n",
    "import datetime\n",
    "from sklearn.model_selection import GridSearchCV\n",
    "\n",
    "\n",
    "#Read train and Testdata\n",
    "\n",
    "df = pd.read_csv(\"train.csv\",index_col='Property_ID')\n",
    "df_test = pd.read_csv(\"test.csv\")\n",
    "X_test = pd.read_csv(\"test.csv\",index_col='Property_ID')"
   ]
  },
  {
   "cell_type": "code",
   "execution_count": 60,
   "metadata": {},
   "outputs": [
    {
     "name": "stdout",
     "output_type": "stream",
     "text": [
      "<class 'pandas.core.frame.DataFrame'>\n",
      "Index: 39499 entries, 0x21e3 to 0x8cb4\n",
      "Data columns (total 14 columns):\n",
      " #   Column                  Non-Null Count  Dtype  \n",
      "---  ------                  --------------  -----  \n",
      " 0   Property_Type           39499 non-null  object \n",
      " 1   Property_Area           39499 non-null  int64  \n",
      " 2   Number_of_Windows       37845 non-null  float64\n",
      " 3   Number_of_Doors         39499 non-null  int64  \n",
      " 4   Furnishing              38457 non-null  object \n",
      " 5   Frequency_of_Powercuts  38116 non-null  float64\n",
      " 6   Power_Backup            39499 non-null  object \n",
      " 7   Water_Supply            39499 non-null  object \n",
      " 8   Traffic_Density_Score   39499 non-null  float64\n",
      " 9   Crime_Rate              38712 non-null  object \n",
      " 10  Dust_and_Noise          38280 non-null  object \n",
      " 11  Air_Quality_Index       39499 non-null  float64\n",
      " 12  Neighborhood_Review     39499 non-null  float64\n",
      " 13  Habitability_score      39499 non-null  float64\n",
      "dtypes: float64(6), int64(2), object(6)\n",
      "memory usage: 4.5+ MB\n"
     ]
    }
   ],
   "source": [
    "#Find the shape\n",
    "df.info()"
   ]
  },
  {
   "cell_type": "markdown",
   "metadata": {},
   "source": [
    "There are 13 features in this dataset(Including the target - Habitability Score)\n",
    "Now find the Null values present in the DB."
   ]
  },
  {
   "cell_type": "code",
   "execution_count": 61,
   "metadata": {},
   "outputs": [
    {
     "data": {
      "text/plain": [
       "Property_Type                0\n",
       "Property_Area                0\n",
       "Number_of_Windows         1654\n",
       "Number_of_Doors              0\n",
       "Furnishing                1042\n",
       "Frequency_of_Powercuts    1383\n",
       "Power_Backup                 0\n",
       "Water_Supply                 0\n",
       "Traffic_Density_Score        0\n",
       "Crime_Rate                 787\n",
       "Dust_and_Noise            1219\n",
       "Air_Quality_Index            0\n",
       "Neighborhood_Review          0\n",
       "Habitability_score           0\n",
       "dtype: int64"
      ]
     },
     "execution_count": 61,
     "metadata": {},
     "output_type": "execute_result"
    }
   ],
   "source": [
    "df.isna().sum()"
   ]
  },
  {
   "cell_type": "markdown",
   "metadata": {},
   "source": [
    "Null Values are more in the columns - **Number of Windows**, followed by , **Frequency_of_Powercuts**,**Dust_and_Noise** **Furnishing** and **Crime_Rate**\n",
    " "
   ]
  },
  {
   "cell_type": "code",
   "execution_count": 62,
   "metadata": {},
   "outputs": [
    {
     "name": "stdout",
     "output_type": "stream",
     "text": [
      "4.0     8053\n",
      "3.0     7080\n",
      "2.0     6857\n",
      "5.0     4708\n",
      "1.0     4254\n",
      "7.0     1784\n",
      "6.0     1738\n",
      "0.0      699\n",
      "11.0     363\n",
      "9.0      352\n",
      "15.0     336\n",
      "12.0     336\n",
      "10.0     335\n",
      "8.0      326\n",
      "14.0     316\n",
      "13.0     308\n",
      "Name: Number_of_Windows, dtype: int64\n",
      "Medium    32996\n",
      "High       3212\n",
      "Low        2072\n",
      "Name: Dust_and_Noise, dtype: int64\n"
     ]
    }
   ],
   "source": [
    "print(df['Number_of_Windows'].value_counts())\n",
    "print(df.Dust_and_Noise.value_counts())\n"
   ]
  },
  {
   "cell_type": "code",
   "execution_count": 63,
   "metadata": {},
   "outputs": [
    {
     "name": "stdout",
     "output_type": "stream",
     "text": [
      "0.0    24471\n",
      "1.0    10010\n",
      "2.0     2441\n",
      "3.0     1194\n",
      "Name: Frequency_of_Powercuts, dtype: int64\n",
      "Well below average        19472\n",
      "Slightly below average    11580\n",
      "Slightly above average     5303\n",
      "Well above average         2357\n",
      "Name: Crime_Rate, dtype: int64\n"
     ]
    }
   ],
   "source": [
    "print(df.Frequency_of_Powercuts.value_counts())\n",
    "print(df.Crime_Rate.value_counts())"
   ]
  },
  {
   "cell_type": "code",
   "execution_count": 64,
   "metadata": {},
   "outputs": [
    {
     "data": {
      "text/html": [
       "<div>\n",
       "<style scoped>\n",
       "    .dataframe tbody tr th:only-of-type {\n",
       "        vertical-align: middle;\n",
       "    }\n",
       "\n",
       "    .dataframe tbody tr th {\n",
       "        vertical-align: top;\n",
       "    }\n",
       "\n",
       "    .dataframe thead th {\n",
       "        text-align: right;\n",
       "    }\n",
       "</style>\n",
       "<table border=\"1\" class=\"dataframe\">\n",
       "  <thead>\n",
       "    <tr style=\"text-align: right;\">\n",
       "      <th></th>\n",
       "      <th>Property_Type</th>\n",
       "      <th>Property_Area</th>\n",
       "      <th>Number_of_Windows</th>\n",
       "      <th>Number_of_Doors</th>\n",
       "      <th>Furnishing</th>\n",
       "      <th>Frequency_of_Powercuts</th>\n",
       "      <th>Power_Backup</th>\n",
       "      <th>Water_Supply</th>\n",
       "      <th>Traffic_Density_Score</th>\n",
       "      <th>Crime_Rate</th>\n",
       "      <th>Dust_and_Noise</th>\n",
       "      <th>Air_Quality_Index</th>\n",
       "      <th>Neighborhood_Review</th>\n",
       "      <th>Habitability_score</th>\n",
       "    </tr>\n",
       "    <tr>\n",
       "      <th>Property_ID</th>\n",
       "      <th></th>\n",
       "      <th></th>\n",
       "      <th></th>\n",
       "      <th></th>\n",
       "      <th></th>\n",
       "      <th></th>\n",
       "      <th></th>\n",
       "      <th></th>\n",
       "      <th></th>\n",
       "      <th></th>\n",
       "      <th></th>\n",
       "      <th></th>\n",
       "      <th></th>\n",
       "      <th></th>\n",
       "    </tr>\n",
       "  </thead>\n",
       "  <tbody>\n",
       "    <tr>\n",
       "      <th>0x21e3</th>\n",
       "      <td>Apartment</td>\n",
       "      <td>106</td>\n",
       "      <td>NaN</td>\n",
       "      <td>1</td>\n",
       "      <td>Semi_Furnished</td>\n",
       "      <td>0.0</td>\n",
       "      <td>No</td>\n",
       "      <td>Once in a day - Morning</td>\n",
       "      <td>5.89</td>\n",
       "      <td>Slightly below average</td>\n",
       "      <td>Medium</td>\n",
       "      <td>90.0</td>\n",
       "      <td>3.86</td>\n",
       "      <td>71.98</td>\n",
       "    </tr>\n",
       "    <tr>\n",
       "      <th>0x68d4</th>\n",
       "      <td>Apartment</td>\n",
       "      <td>733</td>\n",
       "      <td>2.0</td>\n",
       "      <td>2</td>\n",
       "      <td>Unfurnished</td>\n",
       "      <td>1.0</td>\n",
       "      <td>No</td>\n",
       "      <td>Once in a day - Evening</td>\n",
       "      <td>4.37</td>\n",
       "      <td>Well below average</td>\n",
       "      <td>Medium</td>\n",
       "      <td>96.0</td>\n",
       "      <td>3.55</td>\n",
       "      <td>71.20</td>\n",
       "    </tr>\n",
       "    <tr>\n",
       "      <th>0x7d81</th>\n",
       "      <td>Apartment</td>\n",
       "      <td>737</td>\n",
       "      <td>4.0</td>\n",
       "      <td>2</td>\n",
       "      <td>Fully Furnished</td>\n",
       "      <td>0.0</td>\n",
       "      <td>No</td>\n",
       "      <td>Once in a day - Morning</td>\n",
       "      <td>7.45</td>\n",
       "      <td>Slightly below average</td>\n",
       "      <td>Medium</td>\n",
       "      <td>121.0</td>\n",
       "      <td>3.81</td>\n",
       "      <td>71.39</td>\n",
       "    </tr>\n",
       "    <tr>\n",
       "      <th>0x7a57</th>\n",
       "      <td>Apartment</td>\n",
       "      <td>900</td>\n",
       "      <td>3.0</td>\n",
       "      <td>2</td>\n",
       "      <td>Unfurnished</td>\n",
       "      <td>2.0</td>\n",
       "      <td>Yes</td>\n",
       "      <td>Once in a day - Morning</td>\n",
       "      <td>6.16</td>\n",
       "      <td>Well above average</td>\n",
       "      <td>Medium</td>\n",
       "      <td>100.0</td>\n",
       "      <td>1.34</td>\n",
       "      <td>31.46</td>\n",
       "    </tr>\n",
       "    <tr>\n",
       "      <th>0x9409</th>\n",
       "      <td>Bungalow</td>\n",
       "      <td>2238</td>\n",
       "      <td>14.0</td>\n",
       "      <td>6</td>\n",
       "      <td>Fully Furnished</td>\n",
       "      <td>0.0</td>\n",
       "      <td>No</td>\n",
       "      <td>All time</td>\n",
       "      <td>5.46</td>\n",
       "      <td>Well below average</td>\n",
       "      <td>Medium</td>\n",
       "      <td>116.0</td>\n",
       "      <td>4.77</td>\n",
       "      <td>93.70</td>\n",
       "    </tr>\n",
       "    <tr>\n",
       "      <th>...</th>\n",
       "      <td>...</td>\n",
       "      <td>...</td>\n",
       "      <td>...</td>\n",
       "      <td>...</td>\n",
       "      <td>...</td>\n",
       "      <td>...</td>\n",
       "      <td>...</td>\n",
       "      <td>...</td>\n",
       "      <td>...</td>\n",
       "      <td>...</td>\n",
       "      <td>...</td>\n",
       "      <td>...</td>\n",
       "      <td>...</td>\n",
       "      <td>...</td>\n",
       "    </tr>\n",
       "    <tr>\n",
       "      <th>0x4bc2</th>\n",
       "      <td>Bungalow</td>\n",
       "      <td>4014</td>\n",
       "      <td>12.0</td>\n",
       "      <td>6</td>\n",
       "      <td>Semi_Furnished</td>\n",
       "      <td>0.0</td>\n",
       "      <td>Yes</td>\n",
       "      <td>All time</td>\n",
       "      <td>7.50</td>\n",
       "      <td>Well below average</td>\n",
       "      <td>Medium</td>\n",
       "      <td>80.0</td>\n",
       "      <td>4.81</td>\n",
       "      <td>86.55</td>\n",
       "    </tr>\n",
       "    <tr>\n",
       "      <th>0x5f41</th>\n",
       "      <td>Bungalow</td>\n",
       "      <td>3317</td>\n",
       "      <td>10.0</td>\n",
       "      <td>4</td>\n",
       "      <td>Fully Furnished</td>\n",
       "      <td>2.0</td>\n",
       "      <td>No</td>\n",
       "      <td>All time</td>\n",
       "      <td>4.05</td>\n",
       "      <td>Slightly above average</td>\n",
       "      <td>Medium</td>\n",
       "      <td>101.0</td>\n",
       "      <td>2.29</td>\n",
       "      <td>78.75</td>\n",
       "    </tr>\n",
       "    <tr>\n",
       "      <th>0xa013</th>\n",
       "      <td>Apartment</td>\n",
       "      <td>445</td>\n",
       "      <td>1.0</td>\n",
       "      <td>3</td>\n",
       "      <td>Fully Furnished</td>\n",
       "      <td>1.0</td>\n",
       "      <td>No</td>\n",
       "      <td>All time</td>\n",
       "      <td>5.70</td>\n",
       "      <td>Slightly above average</td>\n",
       "      <td>Medium</td>\n",
       "      <td>86.0</td>\n",
       "      <td>2.93</td>\n",
       "      <td>79.91</td>\n",
       "    </tr>\n",
       "    <tr>\n",
       "      <th>0x9721</th>\n",
       "      <td>Bungalow</td>\n",
       "      <td>3780</td>\n",
       "      <td>6.0</td>\n",
       "      <td>6</td>\n",
       "      <td>Unfurnished</td>\n",
       "      <td>0.0</td>\n",
       "      <td>Yes</td>\n",
       "      <td>Once in two days</td>\n",
       "      <td>6.84</td>\n",
       "      <td>Well below average</td>\n",
       "      <td>Medium</td>\n",
       "      <td>137.0</td>\n",
       "      <td>3.80</td>\n",
       "      <td>81.44</td>\n",
       "    </tr>\n",
       "    <tr>\n",
       "      <th>0x8cb4</th>\n",
       "      <td>Single-family home</td>\n",
       "      <td>1229</td>\n",
       "      <td>2.0</td>\n",
       "      <td>4</td>\n",
       "      <td>Fully Furnished</td>\n",
       "      <td>0.0</td>\n",
       "      <td>No</td>\n",
       "      <td>All time</td>\n",
       "      <td>8.29</td>\n",
       "      <td>Well below average</td>\n",
       "      <td>High</td>\n",
       "      <td>132.0</td>\n",
       "      <td>4.67</td>\n",
       "      <td>83.25</td>\n",
       "    </tr>\n",
       "  </tbody>\n",
       "</table>\n",
       "<p>35244 rows × 14 columns</p>\n",
       "</div>"
      ],
      "text/plain": [
       "                  Property_Type  Property_Area  Number_of_Windows  \\\n",
       "Property_ID                                                         \n",
       "0x21e3                Apartment            106                NaN   \n",
       "0x68d4                Apartment            733                2.0   \n",
       "0x7d81                Apartment            737                4.0   \n",
       "0x7a57                Apartment            900                3.0   \n",
       "0x9409                 Bungalow           2238               14.0   \n",
       "...                         ...            ...                ...   \n",
       "0x4bc2                 Bungalow           4014               12.0   \n",
       "0x5f41                 Bungalow           3317               10.0   \n",
       "0xa013                Apartment            445                1.0   \n",
       "0x9721                 Bungalow           3780                6.0   \n",
       "0x8cb4       Single-family home           1229                2.0   \n",
       "\n",
       "             Number_of_Doors       Furnishing  Frequency_of_Powercuts  \\\n",
       "Property_ID                                                             \n",
       "0x21e3                     1   Semi_Furnished                     0.0   \n",
       "0x68d4                     2      Unfurnished                     1.0   \n",
       "0x7d81                     2  Fully Furnished                     0.0   \n",
       "0x7a57                     2      Unfurnished                     2.0   \n",
       "0x9409                     6  Fully Furnished                     0.0   \n",
       "...                      ...              ...                     ...   \n",
       "0x4bc2                     6   Semi_Furnished                     0.0   \n",
       "0x5f41                     4  Fully Furnished                     2.0   \n",
       "0xa013                     3  Fully Furnished                     1.0   \n",
       "0x9721                     6      Unfurnished                     0.0   \n",
       "0x8cb4                     4  Fully Furnished                     0.0   \n",
       "\n",
       "            Power_Backup             Water_Supply  Traffic_Density_Score  \\\n",
       "Property_ID                                                                \n",
       "0x21e3                No  Once in a day - Morning                   5.89   \n",
       "0x68d4                No  Once in a day - Evening                   4.37   \n",
       "0x7d81                No  Once in a day - Morning                   7.45   \n",
       "0x7a57               Yes  Once in a day - Morning                   6.16   \n",
       "0x9409                No                 All time                   5.46   \n",
       "...                  ...                      ...                    ...   \n",
       "0x4bc2               Yes                 All time                   7.50   \n",
       "0x5f41                No                 All time                   4.05   \n",
       "0xa013                No                 All time                   5.70   \n",
       "0x9721               Yes         Once in two days                   6.84   \n",
       "0x8cb4                No                 All time                   8.29   \n",
       "\n",
       "                         Crime_Rate Dust_and_Noise  Air_Quality_Index  \\\n",
       "Property_ID                                                             \n",
       "0x21e3       Slightly below average         Medium               90.0   \n",
       "0x68d4           Well below average         Medium               96.0   \n",
       "0x7d81       Slightly below average         Medium              121.0   \n",
       "0x7a57           Well above average         Medium              100.0   \n",
       "0x9409           Well below average         Medium              116.0   \n",
       "...                             ...            ...                ...   \n",
       "0x4bc2           Well below average         Medium               80.0   \n",
       "0x5f41       Slightly above average         Medium              101.0   \n",
       "0xa013       Slightly above average         Medium               86.0   \n",
       "0x9721           Well below average         Medium              137.0   \n",
       "0x8cb4           Well below average           High              132.0   \n",
       "\n",
       "             Neighborhood_Review  Habitability_score  \n",
       "Property_ID                                           \n",
       "0x21e3                      3.86               71.98  \n",
       "0x68d4                      3.55               71.20  \n",
       "0x7d81                      3.81               71.39  \n",
       "0x7a57                      1.34               31.46  \n",
       "0x9409                      4.77               93.70  \n",
       "...                          ...                 ...  \n",
       "0x4bc2                      4.81               86.55  \n",
       "0x5f41                      2.29               78.75  \n",
       "0xa013                      2.93               79.91  \n",
       "0x9721                      3.80               81.44  \n",
       "0x8cb4                      4.67               83.25  \n",
       "\n",
       "[35244 rows x 14 columns]"
      ]
     },
     "execution_count": 64,
     "metadata": {},
     "output_type": "execute_result"
    }
   ],
   "source": [
    "# df['Dust_and_Noise'] = df['Dust_and_Noise'].fillna(df['Dust_and_Noise'].mode()[1])\n",
    "\n",
    "# df['Crime_Rate'] = df['Crime_Rate'].fillna(df['Crime_Rate'].mode()[1])\n",
    " \n",
    "# df['Frequency_of_Powercuts'] = df['Frequency_of_Powercuts'].fillna(df['Frequency_of_Powercuts'].mode()[1])\n",
    "# df['Number_of_Windows'] = df['Number_of_Windows'].fillna(df['Number_of_Windows'].mode()[1])\n",
    "# df['Furnishing'] = df['Furnishing'].fillna(df['Furnishing'].mode()[1])\n",
    " \n",
    " \n",
    "df.dropna(subset = ['Dust_and_Noise', 'Crime_Rate', 'Frequency_of_Powercuts', 'Furnishing'])\n"
   ]
  },
  {
   "cell_type": "code",
   "execution_count": 65,
   "metadata": {},
   "outputs": [
    {
     "name": "stdout",
     "output_type": "stream",
     "text": [
      "Medium    32996\n",
      "High       3212\n",
      "Low        2072\n",
      "Name: Dust_and_Noise, dtype: int64\n",
      "Well below average        19472\n",
      "Slightly below average    11580\n",
      "Slightly above average     5303\n",
      "Well above average         2357\n",
      "Name: Crime_Rate, dtype: int64\n",
      "0.0    24471\n",
      "1.0    10010\n",
      "2.0     2441\n",
      "3.0     1194\n",
      "Name: Frequency_of_Powercuts, dtype: int64\n",
      "4.0     8053\n",
      "3.0     7080\n",
      "2.0     6857\n",
      "5.0     4708\n",
      "1.0     4254\n",
      "7.0     1784\n",
      "6.0     1738\n",
      "0.0      699\n",
      "11.0     363\n",
      "9.0      352\n",
      "15.0     336\n",
      "12.0     336\n",
      "10.0     335\n",
      "8.0      326\n",
      "14.0     316\n",
      "13.0     308\n",
      "Name: Number_of_Windows, dtype: int64\n",
      "Semi_Furnished     20357\n",
      "Unfurnished        10344\n",
      "Fully Furnished     7756\n",
      "Name: Furnishing, dtype: int64\n"
     ]
    }
   ],
   "source": [
    "print(df.Dust_and_Noise.value_counts());\n",
    "print(df.Crime_Rate.value_counts());\n",
    "print(df.Frequency_of_Powercuts.value_counts());\n",
    "print(df.Number_of_Windows.value_counts());\n",
    "print(df.Furnishing.value_counts());"
   ]
  },
  {
   "cell_type": "markdown",
   "metadata": {},
   "source": [
    "Since thesse columns have Categorical Values , convert them into Numerical Values for easy computations"
   ]
  },
  {
   "cell_type": "code",
   "execution_count": 66,
   "metadata": {},
   "outputs": [
    {
     "name": "stdout",
     "output_type": "stream",
     "text": [
      "['Property_Type', 'Furnishing', 'Power_Backup', 'Water_Supply', 'Crime_Rate', 'Dust_and_Noise']\n",
      "['Property_Area', 'Number_of_Windows', 'Number_of_Doors', 'Frequency_of_Powercuts', 'Traffic_Density_Score', 'Air_Quality_Index', 'Neighborhood_Review', 'Habitability_score']\n"
     ]
    }
   ],
   "source": [
    "X = df;\n",
    "categorical_columns = [col for col in X.columns if  X[col].dtype == \"object\"]\n",
    "numerical_cols = [col for col in X.columns if X[col].dtype in [\"int64\", \"float64\"]]\n",
    "\n",
    " \n",
    "\n",
    "print(categorical_columns);\n",
    "\n",
    "print (numerical_cols)"
   ]
  },
  {
   "cell_type": "markdown",
   "metadata": {},
   "source": [
    "Since we know the categorical features, convert them into numerical for easy calculations. We use **Label Encoding** from **Sckit-learn** to convert them into numerical form\n",
    "    * Import Label Encoding preprocessor\n",
    "    *  Apply fit transform on the columns in the dataset "
   ]
  },
  {
   "cell_type": "code",
   "execution_count": 67,
   "metadata": {},
   "outputs": [],
   "source": [
    "\n",
    "  \n",
    "# label_encoder object knows how to understand word labels.\n",
    "label_encoder = preprocessing.LabelEncoder()\n",
    "  \n",
    "# Encode labels in column 'Furnishing'.\n",
    "df['Furnishing']= label_encoder.fit_transform(df['Furnishing'])\n",
    "\n",
    "# Encode labels in column 'Property_Type'.\n",
    "df['Property_Type']= label_encoder.fit_transform(df['Property_Type'])\n",
    "\n",
    "\n",
    "# Encode labels in column 'Power_Backup'.\n",
    "df['Power_Backup']= label_encoder.fit_transform(df['Power_Backup'])\n",
    "\n",
    "# Encode labels in column 'Water_Supply'.\n",
    "df['Water_Supply']= label_encoder.fit_transform(df['Water_Supply'])\n",
    "\n",
    "\n",
    "# Encode labels in column 'Crime_Rate'.\n",
    "df['Crime_Rate']= label_encoder.fit_transform(df['Crime_Rate'])\n",
    "# Encode labels in column 'Dust_and_Noise'.\n",
    "df['Dust_and_Noise']= label_encoder.fit_transform(df['Dust_and_Noise'])\n",
    " "
   ]
  },
  {
   "cell_type": "markdown",
   "metadata": {},
   "source": [
    "Now find how these columns are correlated using correlation matrix.\n",
    "**A correlation matrix is simply a table which displays the correlation coefficients for different variables. The matrix depicts the correlation between all the possible pairs of values in a table. It is a powerful tool to summarize a large dataset and to identify and visualize patterns in the given data.**\n",
    "\n"
   ]
  },
  {
   "cell_type": "code",
   "execution_count": 68,
   "metadata": {},
   "outputs": [
    {
     "data": {
      "text/plain": [
       "<AxesSubplot:>"
      ]
     },
     "execution_count": 68,
     "metadata": {},
     "output_type": "execute_result"
    },
    {
     "data": {
      "image/png": "[encoded data removed]",
      "text/plain": [
       "<Figure size 720x1152 with 1 Axes>"
      ]
     },
     "metadata": {
      "needs_background": "light"
     },
     "output_type": "display_data"
    }
   ],
   "source": [
    "from matplotlib import pyplot\n",
    "from pandas import read_csv\n",
    "import numpy\n",
    "import seaborn as sns\n",
    "pyplot.figure(figsize=(10, 16))\n",
    "\n",
    "sns.heatmap(df.corr(), annot=True, linewidth=1, linecolor='black', cmap='YlOrRd', square=False, cbar=False)\n"
   ]
  },
  {
   "cell_type": "markdown",
   "metadata": {},
   "source": [
    "Using the above **HeatMap** correlate the values of the Null Columns,\n",
    "\n",
    "| Columns Having Null Values | Score W.r.t Habitability |\n",
    "| ---- | ---- |\n",
    "| Number_of_Windows       | 0.095  |\n",
    "| Frequency_of_Powercuts | -0.23  |\n",
    "| Crime_Rate             | 0.27   |      \n",
    "| Dust_and_Noise         | 0.093  |    \n",
    "| Furnishing | -0.38|"
   ]
  },
  {
   "cell_type": "markdown",
   "metadata": {},
   "source": [
    "#### Intrepretation of heatmap\n",
    "**Frequency_of_Powercuts** is hardly related to Target Variable . This column can be dropped.\n"
   ]
  },
  {
   "cell_type": "code",
   "execution_count": 69,
   "metadata": {},
   "outputs": [],
   "source": [
    "#Try without dropping the values\n",
    "\n",
    "# df.drop(['Frequency_of_Powercuts'],axis=1,inplace=True);\n",
    "# df.drop(['Furnishing'],axis=1,inplace=True);\n",
    "df.drop(['Number_of_Windows'],axis=1,inplace=True);\n",
    "# X_test.drop(['Frequency_of_Powercuts'],axis=1,inplace=True);\n",
    "# X_test.drop(['Furnishing'],axis=1,inplace=True);\n",
    "X_test.drop(['Number_of_Windows'],axis=1,inplace=True);\n",
    "\n"
   ]
  },
  {
   "cell_type": "markdown",
   "metadata": {},
   "source": [
    "Drop **Furnishing** column "
   ]
  },
  {
   "cell_type": "markdown",
   "metadata": {},
   "source": [
    "**Number_of_Windows** - the count of missing values is too high among other and it has many different values. It can also be dropped"
   ]
  },
  {
   "cell_type": "markdown",
   "metadata": {},
   "source": [
    "Revisit the values of *Crime_Rate* and *Dust_and_Noise*"
   ]
  },
  {
   "cell_type": "code",
   "execution_count": 70,
   "metadata": {},
   "outputs": [
    {
     "name": "stdout",
     "output_type": "stream",
     "text": [
      "2    32996\n",
      "0     3212\n",
      "1     2072\n",
      "3     1219\n",
      "Name: Dust_and_Noise, dtype: int64\n",
      "3    19472\n",
      "1    11580\n",
      "0     5303\n",
      "2     2357\n",
      "4      787\n",
      "Name: Crime_Rate, dtype: int64\n"
     ]
    }
   ],
   "source": [
    "print(df.Dust_and_Noise.value_counts())\n",
    "print(df.Crime_Rate.value_counts())"
   ]
  },
  {
   "cell_type": "code",
   "execution_count": 71,
   "metadata": {},
   "outputs": [],
   "source": [
    "#Now Drop the target colum from the dataset for modelling\n",
    "\n",
    "df.dropna(axis=0, subset=['Habitability_score'], inplace=True)\n",
    "\n",
    "y = df['Habitability_score']             \n",
    "df.drop(['Habitability_score'], axis=1, inplace=True)"
   ]
  },
  {
   "cell_type": "code",
   "execution_count": 72,
   "metadata": {},
   "outputs": [
    {
     "name": "stdout",
     "output_type": "stream",
     "text": [
      "Fitting 2 folds for each of 24 candidates, totalling 48 fits\n",
      "[15:14:58] WARNING: C:/Users/Administrator/workspace/xgboost-win64_release_1.6.0/src/objective/regression_obj.cu:203: reg:linear is now deprecated in favor of reg:squarederror.\n",
      "[15:14:58] WARNING: C:/Users/Administrator/workspace/xgboost-win64_release_1.6.0/src/learner.cc:627: \n",
      "Parameters: { \"silent\" } might not be used.\n",
      "\n",
      "  This could be a false alarm, with some parameters getting used by language bindings but\n",
      "  then being mistakenly passed down to XGBoost core, or some parameter actually being used\n",
      "  but getting flagged wrongly here. Please open an issue if you find any such cases.\n",
      "\n",
      "\n",
      "0.8125457944360766\n",
      "{'colsample_bytree': 0.9, 'learning_rate': 0.03, 'max_depth': 10, 'min_child_weight': 4, 'n_estimators': 600, 'nthread': 4, 'objective': 'reg:linear', 'silent': 1, 'subsample': 0.7}\n"
     ]
    }
   ],
   "source": [
    "# Various hyper-parameters to tune\n",
    "xgb1 = XGBRegressor()\n",
    "parameters = {'nthread':[4], #when use hyperthread, xgboost may become slower\n",
    "              'objective':['reg:linear'],\n",
    "              'learning_rate': [.03, 0.05, .07], #so called `eta` value\n",
    "              'max_depth': [7,8,9,10],\n",
    "              'min_child_weight': [4],\n",
    "              'silent': [1],\n",
    "              'subsample': [0.7],\n",
    "              'colsample_bytree': [0.8,0.9],\n",
    "              'n_estimators': [600]}\n",
    "\n",
    "xgb_grid = GridSearchCV(xgb1,\n",
    "                        parameters,\n",
    "                        cv = 2,\n",
    "                        n_jobs = 5,\n",
    "                        verbose=True)\n",
    "\n",
    "xgb_grid.fit(df,y)\n",
    "\n",
    "print(xgb_grid.best_score_)\n",
    "print(xgb_grid.best_params_)"
   ]
  },
  {
   "cell_type": "code",
   "execution_count": 73,
   "metadata": {},
   "outputs": [
    {
     "name": "stdout",
     "output_type": "stream",
     "text": [
      "0.8125457944360766\n",
      "{'colsample_bytree': 0.9, 'learning_rate': 0.03, 'max_depth': 10, 'min_child_weight': 4, 'n_estimators': 600, 'nthread': 4, 'objective': 'reg:linear', 'silent': 1, 'subsample': 0.7}\n"
     ]
    }
   ],
   "source": [
    "print(xgb_grid.best_score_)\n",
    "print(xgb_grid.best_params_)\n",
    "#0.8100174198187124 - old value "
   ]
  },
  {
   "cell_type": "code",
   "execution_count": 74,
   "metadata": {},
   "outputs": [
    {
     "name": "stdout",
     "output_type": "stream",
     "text": [
      "Fitting 2 folds for each of 24 candidates, totalling 48 fits\n",
      "[15:28:15] WARNING: C:/Users/Administrator/workspace/xgboost-win64_release_1.6.0/src/objective/regression_obj.cu:203: reg:linear is now deprecated in favor of reg:squarederror.\n",
      "[15:28:15] WARNING: C:/Users/Administrator/workspace/xgboost-win64_release_1.6.0/src/learner.cc:627: \n",
      "Parameters: { \"silent\" } might not be used.\n",
      "\n",
      "  This could be a false alarm, with some parameters getting used by language bindings but\n",
      "  then being mistakenly passed down to XGBoost core, or some parameter actually being used\n",
      "  but getting flagged wrongly here. Please open an issue if you find any such cases.\n",
      "\n",
      "\n"
     ]
    },
    {
     "data": {
      "text/plain": [
       "Pipeline(steps=[('model_run',\n",
       "                 GridSearchCV(cv=2,\n",
       "                              estimator=XGBRegressor(base_score=None,\n",
       "                                                     booster=None,\n",
       "                                                     callbacks=None,\n",
       "                                                     colsample_bylevel=None,\n",
       "                                                     colsample_bynode=None,\n",
       "                                                     colsample_bytree=None,\n",
       "                                                     early_stopping_rounds=None,\n",
       "                                                     enable_categorical=False,\n",
       "                                                     eval_metric=None,\n",
       "                                                     gamma=None, gpu_id=None,\n",
       "                                                     grow_policy=None,\n",
       "                                                     importance_type=None,\n",
       "                                                     interaction_constraints=None,\n",
       "                                                     learning_r...\n",
       "                                                     n_estimators=100,\n",
       "                                                     n_jobs=None,\n",
       "                                                     num_parallel_tree=None,\n",
       "                                                     predictor=None,\n",
       "                                                     random_state=None,\n",
       "                                                     reg_alpha=None,\n",
       "                                                     reg_lambda=None, ...),\n",
       "                              n_jobs=5,\n",
       "                              param_grid={'colsample_bytree': [0.8, 0.9],\n",
       "                                          'learning_rate': [0.03, 0.05, 0.07],\n",
       "                                          'max_depth': [7, 8, 9, 10],\n",
       "                                          'min_child_weight': [4],\n",
       "                                          'n_estimators': [600], 'nthread': [4],\n",
       "                                          'objective': ['reg:linear'],\n",
       "                                          'silent': [1], 'subsample': [0.7]},\n",
       "                              verbose=True))])"
      ]
     },
     "execution_count": 74,
     "metadata": {},
     "output_type": "execute_result"
    }
   ],
   "source": [
    "from sklearn.pipeline import Pipeline\n",
    "\n",
    "model_pipeline = Pipeline(steps=[(\"model_run\", xgb_grid)\n",
    "])\n",
    "\n",
    "# Fitting the input and predicting the results\n",
    "model_pipeline.fit(X, y)"
   ]
  },
  {
   "cell_type": "code",
   "execution_count": 75,
   "metadata": {},
   "outputs": [],
   "source": [
    "\n",
    "# label_encoder object knows how to understand word labels.\n",
    "label_encoder = preprocessing.LabelEncoder()\n",
    "  \n",
    " \n",
    "\n",
    "# Encode labels in column 'Property_Type'.\n",
    "X_test['Property_Type']= label_encoder.fit_transform(X_test['Property_Type'])\n",
    "\n",
    "\n",
    "# Encode labels in column 'Power_Backup'.\n",
    "X_test['Power_Backup']= label_encoder.fit_transform(X_test['Power_Backup'])\n",
    "\n",
    "# Encode labels in column 'Water_Supply'.\n",
    "X_test['Water_Supply']= label_encoder.fit_transform(X_test['Water_Supply'])\n",
    "\n",
    "\n",
    "# Encode labels in column 'Crime_Rate'.\n",
    "X_test['Crime_Rate']= label_encoder.fit_transform(X_test['Crime_Rate'])\n",
    "# Encode labels in column 'Dust_and_Noise'.\n",
    "X_test['Dust_and_Noise']= label_encoder.fit_transform(X_test['Dust_and_Noise'])\n",
    "\n",
    "# Encode labels in column 'Dust_and_Noise'.\n",
    "X_test['Furnishing']= label_encoder.fit_transform(X_test['Furnishing'])\n",
    "\n",
    "# Model Prediction\n",
    "preds = model_pipeline.predict(X_test,)\n"
   ]
  },
  {
   "cell_type": "code",
   "execution_count": 76,
   "metadata": {},
   "outputs": [
    {
     "data": {
      "text/html": [
       "<div>\n",
       "<style scoped>\n",
       "    .dataframe tbody tr th:only-of-type {\n",
       "        vertical-align: middle;\n",
       "    }\n",
       "\n",
       "    .dataframe tbody tr th {\n",
       "        vertical-align: top;\n",
       "    }\n",
       "\n",
       "    .dataframe thead th {\n",
       "        text-align: right;\n",
       "    }\n",
       "</style>\n",
       "<table border=\"1\" class=\"dataframe\">\n",
       "  <thead>\n",
       "    <tr style=\"text-align: right;\">\n",
       "      <th></th>\n",
       "      <th>Property_ID</th>\n",
       "      <th>Habitability_score</th>\n",
       "    </tr>\n",
       "  </thead>\n",
       "  <tbody>\n",
       "    <tr>\n",
       "      <th>0</th>\n",
       "      <td>0x6e93</td>\n",
       "      <td>28.488100</td>\n",
       "    </tr>\n",
       "    <tr>\n",
       "      <th>1</th>\n",
       "      <td>0x8787</td>\n",
       "      <td>80.047668</td>\n",
       "    </tr>\n",
       "    <tr>\n",
       "      <th>2</th>\n",
       "      <td>0x6c17</td>\n",
       "      <td>67.246414</td>\n",
       "    </tr>\n",
       "    <tr>\n",
       "      <th>3</th>\n",
       "      <td>0x9dbd</td>\n",
       "      <td>72.225136</td>\n",
       "    </tr>\n",
       "    <tr>\n",
       "      <th>4</th>\n",
       "      <td>0xbfde</td>\n",
       "      <td>75.507965</td>\n",
       "    </tr>\n",
       "  </tbody>\n",
       "</table>\n",
       "</div>"
      ],
      "text/plain": [
       "  Property_ID  Habitability_score\n",
       "0      0x6e93           28.488100\n",
       "1      0x8787           80.047668\n",
       "2      0x6c17           67.246414\n",
       "3      0x9dbd           72.225136\n",
       "4      0xbfde           75.507965"
      ]
     },
     "execution_count": 76,
     "metadata": {},
     "output_type": "execute_result"
    }
   ],
   "source": [
    "output = pd.DataFrame({\"Property_ID\": X_test.index, \"Habitability_score\": preds})\n",
    "output.to_csv(\"submission-13Aug-xgbBoost-gridCV-AllColumns.csv\", index=False)\n",
    "output.head()"
   ]
  }
 ],
 "metadata": {
  "kernelspec": {
   "display_name": "Python 3.9.6 64-bit",
   "language": "python",
   "name": "python3"
  },
  "language_info": {
   "codemirror_mode": {
    "name": "ipython",
    "version": 3
   },
   "file_extension": ".py",
   "mimetype": "text/x-python",
   "name": "python",
   "nbconvert_exporter": "python",
   "pygments_lexer": "ipython3",
   "version": "3.9.6"
  },
  "orig_nbformat": 4,
  "vscode": {
   "interpreter": {
    "hash": "11938c6bc6919ae2720b4d5011047913343b08a43b18698fd82dedb0d4417594"
   }
  }
 },
 "nbformat": 4,
 "nbformat_minor": 2
}
