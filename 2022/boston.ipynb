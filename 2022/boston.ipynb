{
 "cells": [
  {
   "cell_type": "code",
   "execution_count": 198,
   "metadata": {},
   "outputs": [],
   "source": [
    "#Boston Housing DataSet \n",
    "\n",
    "# Import Scikit-Learn module\n",
    "import sklearn\n",
    "import pandas as pd\n",
    "import numpy as np\n",
    "import matplotlib.pyplot as plt\n",
    "from sklearn.metrics import r2_score\n",
    "\n",
    "# import warnings filter\n",
    "from warnings import simplefilter\n",
    "# ignore all future warnings\n",
    "simplefilter(action='ignore', category=FutureWarning)\n",
    "\n",
    "# Load the Boston house pricing dataset\n",
    "from sklearn.datasets import load_boston\n",
    "sklearn.set_config(print_changed_only=True)\n",
    "\n",
    "# Arrange the dataset into features and target \n",
    "boston = load_boston()\n",
    "X, y = boston.data, boston.target\n",
    "\n",
    "# Display the dataset description\n",
    "#print(boston.DESCR)"
   ]
  },
  {
   "cell_type": "code",
   "execution_count": 199,
   "metadata": {},
   "outputs": [
    {
     "data": {
      "text/html": [
       "<div>\n",
       "<style scoped>\n",
       "    .dataframe tbody tr th:only-of-type {\n",
       "        vertical-align: middle;\n",
       "    }\n",
       "\n",
       "    .dataframe tbody tr th {\n",
       "        vertical-align: top;\n",
       "    }\n",
       "\n",
       "    .dataframe thead th {\n",
       "        text-align: right;\n",
       "    }\n",
       "</style>\n",
       "<table border=\"1\" class=\"dataframe\">\n",
       "  <thead>\n",
       "    <tr style=\"text-align: right;\">\n",
       "      <th></th>\n",
       "      <th>CRIM</th>\n",
       "      <th>ZN</th>\n",
       "      <th>INDUS</th>\n",
       "      <th>CHAS</th>\n",
       "      <th>NOX</th>\n",
       "      <th>RM</th>\n",
       "      <th>AGE</th>\n",
       "      <th>DIS</th>\n",
       "      <th>RAD</th>\n",
       "      <th>TAX</th>\n",
       "      <th>PTRATIO</th>\n",
       "      <th>B</th>\n",
       "      <th>LSTAT</th>\n",
       "      <th>price</th>\n",
       "    </tr>\n",
       "  </thead>\n",
       "  <tbody>\n",
       "    <tr>\n",
       "      <th>0</th>\n",
       "      <td>0.00632</td>\n",
       "      <td>18.0</td>\n",
       "      <td>2.31</td>\n",
       "      <td>0.0</td>\n",
       "      <td>0.538</td>\n",
       "      <td>6.575</td>\n",
       "      <td>65.2</td>\n",
       "      <td>4.0900</td>\n",
       "      <td>1.0</td>\n",
       "      <td>296.0</td>\n",
       "      <td>15.3</td>\n",
       "      <td>396.90</td>\n",
       "      <td>4.98</td>\n",
       "      <td>24.0</td>\n",
       "    </tr>\n",
       "    <tr>\n",
       "      <th>1</th>\n",
       "      <td>0.02731</td>\n",
       "      <td>0.0</td>\n",
       "      <td>7.07</td>\n",
       "      <td>0.0</td>\n",
       "      <td>0.469</td>\n",
       "      <td>6.421</td>\n",
       "      <td>78.9</td>\n",
       "      <td>4.9671</td>\n",
       "      <td>2.0</td>\n",
       "      <td>242.0</td>\n",
       "      <td>17.8</td>\n",
       "      <td>396.90</td>\n",
       "      <td>9.14</td>\n",
       "      <td>21.6</td>\n",
       "    </tr>\n",
       "    <tr>\n",
       "      <th>2</th>\n",
       "      <td>0.02729</td>\n",
       "      <td>0.0</td>\n",
       "      <td>7.07</td>\n",
       "      <td>0.0</td>\n",
       "      <td>0.469</td>\n",
       "      <td>7.185</td>\n",
       "      <td>61.1</td>\n",
       "      <td>4.9671</td>\n",
       "      <td>2.0</td>\n",
       "      <td>242.0</td>\n",
       "      <td>17.8</td>\n",
       "      <td>392.83</td>\n",
       "      <td>4.03</td>\n",
       "      <td>34.7</td>\n",
       "    </tr>\n",
       "    <tr>\n",
       "      <th>3</th>\n",
       "      <td>0.03237</td>\n",
       "      <td>0.0</td>\n",
       "      <td>2.18</td>\n",
       "      <td>0.0</td>\n",
       "      <td>0.458</td>\n",
       "      <td>6.998</td>\n",
       "      <td>45.8</td>\n",
       "      <td>6.0622</td>\n",
       "      <td>3.0</td>\n",
       "      <td>222.0</td>\n",
       "      <td>18.7</td>\n",
       "      <td>394.63</td>\n",
       "      <td>2.94</td>\n",
       "      <td>33.4</td>\n",
       "    </tr>\n",
       "    <tr>\n",
       "      <th>4</th>\n",
       "      <td>0.06905</td>\n",
       "      <td>0.0</td>\n",
       "      <td>2.18</td>\n",
       "      <td>0.0</td>\n",
       "      <td>0.458</td>\n",
       "      <td>7.147</td>\n",
       "      <td>54.2</td>\n",
       "      <td>6.0622</td>\n",
       "      <td>3.0</td>\n",
       "      <td>222.0</td>\n",
       "      <td>18.7</td>\n",
       "      <td>396.90</td>\n",
       "      <td>5.33</td>\n",
       "      <td>36.2</td>\n",
       "    </tr>\n",
       "  </tbody>\n",
       "</table>\n",
       "</div>"
      ],
      "text/plain": [
       "      CRIM    ZN  INDUS  CHAS    NOX     RM   AGE     DIS  RAD    TAX  \\\n",
       "0  0.00632  18.0   2.31   0.0  0.538  6.575  65.2  4.0900  1.0  296.0   \n",
       "1  0.02731   0.0   7.07   0.0  0.469  6.421  78.9  4.9671  2.0  242.0   \n",
       "2  0.02729   0.0   7.07   0.0  0.469  7.185  61.1  4.9671  2.0  242.0   \n",
       "3  0.03237   0.0   2.18   0.0  0.458  6.998  45.8  6.0622  3.0  222.0   \n",
       "4  0.06905   0.0   2.18   0.0  0.458  7.147  54.2  6.0622  3.0  222.0   \n",
       "\n",
       "   PTRATIO       B  LSTAT  price  \n",
       "0     15.3  396.90   4.98   24.0  \n",
       "1     17.8  396.90   9.14   21.6  \n",
       "2     17.8  392.83   4.03   34.7  \n",
       "3     18.7  394.63   2.94   33.4  \n",
       "4     18.7  396.90   5.33   36.2  "
      ]
     },
     "execution_count": 199,
     "metadata": {},
     "output_type": "execute_result"
    }
   ],
   "source": [
    "# Obtain a DataFrame for the Boston house pricing data\n",
    "df = pd.DataFrame(data=boston.data, columns=boston.feature_names)\n",
    "df['price'] = y\n",
    "df.head()"
   ]
  },
  {
   "cell_type": "markdown",
   "metadata": {},
   "source": [
    "# Linear Regression"
   ]
  },
  {
   "cell_type": "code",
   "execution_count": 200,
   "metadata": {},
   "outputs": [
    {
     "name": "stdout",
     "output_type": "stream",
     "text": [
      "LinearRegression(normalize=True)\n"
     ]
    }
   ],
   "source": [
    "# Import the corresponding library\n",
    "from sklearn.linear_model import LinearRegression\n",
    "\n",
    "# Instantiating a model object named 'model'\n",
    "model = LinearRegression(normalize=True)\n",
    "\n",
    "# Obtain model information to verify\n",
    "print(model)"
   ]
  },
  {
   "cell_type": "code",
   "execution_count": 201,
   "metadata": {},
   "outputs": [
    {
     "data": {
      "text/plain": [
       "LinearRegression(normalize=True)"
      ]
     },
     "execution_count": 201,
     "metadata": {},
     "output_type": "execute_result"
    }
   ],
   "source": [
    "# Perform the train test split\n",
    "from sklearn.model_selection import train_test_split\n",
    "X_train, X_test, y_train, y_test = train_test_split(X, y, random_state=42)\n",
    "\n",
    "# Fit the Regression model\n",
    "model.fit(X_train, y_train)"
   ]
  },
  {
   "cell_type": "code",
   "execution_count": 219,
   "metadata": {},
   "outputs": [
    {
     "name": "stdout",
     "output_type": "stream",
     "text": [
      "The train score for linear regression model is:  0.75\n",
      "The test score for linear regression model is:  0.68\n",
      "r^2 on test data-elastic net : 0.684427\n"
     ]
    }
   ],
   "source": [
    "# Obtain the model predictions for the test dataset\n",
    "y_pred = model.predict(X_test)\n",
    "\n",
    "\n",
    "# Obtain the R-Squared performace metric\n",
    "train_score_lr = model.score(X_train, y_train)\n",
    "test_score_lr = model.score(X_test, y_test)\n",
    "\n",
    "print(\"The train score for linear regression model is: \", np.round(train_score_lr, 2))\n",
    "print(\"The test score for linear regression model is: \", np.round(test_score_lr, 2))\n",
    "print(\"r^2 on test data-elastic net : %f\" % r2_score(y_test, y_pred))"
   ]
  },
  {
   "cell_type": "markdown",
   "metadata": {},
   "source": [
    "# Lasso Regression (L1 Regularization)\n",
    "\n",
    "Lasso shrinks the less important features "
   ]
  },
  {
   "cell_type": "code",
   "execution_count": 203,
   "metadata": {},
   "outputs": [
    {
     "data": {
      "text/plain": [
       "Lasso(alpha=0.6)"
      ]
     },
     "execution_count": 203,
     "metadata": {},
     "output_type": "execute_result"
    }
   ],
   "source": [
    "from sklearn.linear_model import Lasso\n",
    "\n",
    "#Value changed from 0.1 to 0.9 - no change in test score\n",
    "\n",
    "modelLasso = Lasso(alpha=0.6)\n",
    "\n",
    "modelLasso.fit(X_train, y_train)"
   ]
  },
  {
   "cell_type": "code",
   "execution_count": 204,
   "metadata": {},
   "outputs": [
    {
     "data": {
      "text/plain": [
       "array([-0.10034894,  0.02975719, -0.        ,  0.        , -0.        ,\n",
       "        2.73427252,  0.        , -0.82245451,  0.22328552, -0.0118226 ,\n",
       "       -0.72633624,  0.01292419, -0.67932987])"
      ]
     },
     "execution_count": 204,
     "metadata": {},
     "output_type": "execute_result"
    }
   ],
   "source": [
    "modelLasso.coef_"
   ]
  },
  {
   "cell_type": "code",
   "execution_count": 220,
   "metadata": {},
   "outputs": [
    {
     "name": "stdout",
     "output_type": "stream",
     "text": [
      "The train score for lasso regression model is:  0.72\n",
      "The test score for lasso regression model is:  0.67\n",
      "r^2 on test data-elastic net : 0.666661\n"
     ]
    }
   ],
   "source": [
    "# Obtain the model predictions for the test dataset\n",
    "y_pred = modelLasso.predict(X_test)\n",
    "\n",
    "\n",
    "# Obtain the R-Squared performace metric\n",
    "train_score_ls = modelLasso.score(X_train, y_train)\n",
    "test_score_ls = modelLasso.score(X_test, y_test)\n",
    "\n",
    "print(\"The train score for lasso regression model is: \", np.round(train_score_ls, 2))\n",
    "print(\"The test score for lasso regression model is: \", np.round(test_score_ls, 2))\n",
    "print(\"r^2 on test data-elastic net : %f\" % r2_score(y_test, y_pred))"
   ]
  },
  {
   "cell_type": "markdown",
   "metadata": {},
   "source": [
    "# Ridge Regression\n",
    " Hint: Will add penality to the terms"
   ]
  },
  {
   "cell_type": "code",
   "execution_count": 206,
   "metadata": {},
   "outputs": [
    {
     "data": {
      "text/plain": [
       "Ridge(alpha=0.1)"
      ]
     },
     "execution_count": 206,
     "metadata": {},
     "output_type": "execute_result"
    }
   ],
   "source": [
    "from sklearn.linear_model import Ridge\n",
    "\n",
    "modelRegression = Ridge(alpha=0.1)\n",
    "\n",
    "modelRegression.fit(X_train, y_train)"
   ]
  },
  {
   "cell_type": "code",
   "execution_count": 207,
   "metadata": {},
   "outputs": [
    {
     "data": {
      "text/plain": [
       "array([-1.27536016e-01,  2.98537815e-02,  4.35486433e-02,  2.74033483e+00,\n",
       "       -1.49671032e+01,  4.37348397e+00, -1.03183434e-02, -1.38208336e+00,\n",
       "        2.55296380e-01, -1.00999145e-02, -9.07649627e-01,  1.32371402e-02,\n",
       "       -5.20257280e-01])"
      ]
     },
     "execution_count": 207,
     "metadata": {},
     "output_type": "execute_result"
    }
   ],
   "source": [
    "modelRegression.coef_"
   ]
  },
  {
   "cell_type": "code",
   "execution_count": 208,
   "metadata": {},
   "outputs": [
    {
     "name": "stdout",
     "output_type": "stream",
     "text": [
      "The train score for lasso regression model is:  0.75\n",
      "The test score for lasso regression model is:  0.68\n",
      "r^2 on test data : 0.683805\n"
     ]
    }
   ],
   "source": [
    "# Obtain the model predictions for the test dataset\n",
    "y_predl2 = modelRegression.predict(X_test)\n",
    "\n",
    "\n",
    "# Obtain the R-Squared performace metric\n",
    "train_score_l2 = modelRegression.score(X_train, y_train)\n",
    "test_score_l2 = modelRegression.score(X_test, y_test)\n",
    "\n",
    "print(\"The train score for lasso regression model is: \", np.round(train_score_l2, 2))\n",
    "print(\"The test score for lasso regression model is: \", np.round(test_score_l2,2))\n",
    "\n",
    "print(\"r^2 on test data : %f\" % r2_score(y_test, y_predl2))"
   ]
  },
  {
   "cell_type": "markdown",
   "metadata": {},
   "source": [
    "# Lasso CV\n",
    "\n",
    "best model found by CV"
   ]
  },
  {
   "cell_type": "code",
   "execution_count": 209,
   "metadata": {},
   "outputs": [
    {
     "data": {
      "text/plain": [
       "LassoCV(alphas=[0.1, 0.5, 0.9, 1.0, 10])"
      ]
     },
     "execution_count": 209,
     "metadata": {},
     "output_type": "execute_result"
    }
   ],
   "source": [
    "from sklearn.linear_model import LassoCV\n",
    "modelLassoCV = LassoCV(alphas=[0.1, 0.5, 0.9, 1.0, 10])\n",
    "\n",
    "modelLassoCV.fit(X_train, y_train)\n",
    "\n"
   ]
  },
  {
   "cell_type": "code",
   "execution_count": 210,
   "metadata": {},
   "outputs": [
    {
     "data": {
      "text/plain": [
       "0.1"
      ]
     },
     "execution_count": 210,
     "metadata": {},
     "output_type": "execute_result"
    }
   ],
   "source": [
    "modelLassoCV.alpha_"
   ]
  },
  {
   "cell_type": "code",
   "execution_count": 211,
   "metadata": {},
   "outputs": [
    {
     "name": "stdout",
     "output_type": "stream",
     "text": [
      "The train score for lasso regression model is:  0.74\n",
      "The test score for lasso regression model is:  0.67\n",
      "r^2 on test data : 0.666045\n"
     ]
    }
   ],
   "source": [
    "# Obtain the model predictions for the test dataset\n",
    "y_predLassoCV = modelLassoCV.predict(X_test)\n",
    "\n",
    "\n",
    "# Obtain the R-Squared performace metric\n",
    "train_score_l1cv = modelLassoCV.score(X_train, y_train)\n",
    "test_score_l1cv = modelLassoCV.score(X_test, y_test)\n",
    "\n",
    "print(\"The train score for lasso regression model is: \", np.round(train_score_l1cv, 2))\n",
    "print(\"The test score for lasso regression model is: \", np.round(test_score_l1cv,2))\n",
    "print(\"r^2 on test data : %f\" % r2_score(y_test, y_predLassoCV))"
   ]
  },
  {
   "cell_type": "markdown",
   "metadata": {},
   "source": [
    "# Elastic Net\n",
    "\n",
    "Elastic net combines both penalties - l1 and l2\n",
    "\n",
    "## HyperParamaters\n",
    " **alpha** - assigns the weight to  l1 and l2\n",
    " **lambda** - controls the wieghts of the sum of penalties "
   ]
  },
  {
   "cell_type": "code",
   "execution_count": 216,
   "metadata": {},
   "outputs": [
    {
     "name": "stdout",
     "output_type": "stream",
     "text": [
      "r^2 on test data-elastic net : 0.661180\n"
     ]
    }
   ],
   "source": [
    "from sklearn.linear_model import ElasticNet\n",
    "modelElasticNet = ElasticNet(alpha=0.8, l1_ratio=0.9)\n",
    "\n",
    "modelElasticNet.fit(X_train, y_train)\n",
    "y_predent = modelElasticNet.predict(X_test)\n",
    "\n",
    "print(\"r^2 on test data-elastic net : %f\" % r2_score(y_test, y_predent))"
   ]
  },
  {
   "cell_type": "code",
   "execution_count": 218,
   "metadata": {},
   "outputs": [
    {
     "name": "stdout",
     "output_type": "stream",
     "text": [
      "r^2 on test data-elastic net : 0.684427\n"
     ]
    },
    {
     "name": "stderr",
     "output_type": "stream",
     "text": [
      "C:\\Users\\z0044whz\\AppData\\Local\\Temp/ipykernel_15384/1783401248.py:22: UserWarning: With alpha=0, this algorithm does not converge well. You are advised to use the LinearRegression estimator\n",
      "  modelElasticNet.fit(X_train, y_train)\n",
      "C:\\Users\\z0044whz\\AppData\\Roaming\\Python\\Python39\\site-packages\\sklearn\\linear_model\\_coordinate_descent.py:530: UserWarning: Coordinate descent with no regularization may lead to unexpected results and is discouraged.\n",
      "  model = cd_fast.enet_coordinate_descent(\n",
      "C:\\Users\\z0044whz\\AppData\\Roaming\\Python\\Python39\\site-packages\\sklearn\\linear_model\\_coordinate_descent.py:530: ConvergenceWarning: Objective did not converge. You might want to increase the number of iterations. Duality gap: 4233.440989512984, tolerance: 3.361037625329816\n",
      "  model = cd_fast.enet_coordinate_descent(\n"
     ]
    }
   ],
   "source": [
    "  \n",
    "from sklearn.linear_model import ElasticNetCV\n",
    "from sklearn.model_selection import RepeatedKFold\n",
    "from numpy import arange\n",
    "\n",
    "\n",
    "#cv = RepeatedKFold(n_splits=10, n_repeats=3, random_state=1)\n",
    "ratios = arange(0, 1, 0.01)\n",
    "alphas = [1e-5, 1e-4, 1e-3, 1e-2, 1e-1, 0.0, 1.0, 10.0, 100.0]\n",
    "#modelElasticNetCV = ElasticNetCV(l1_ratio=ratios, alphas=alphas, cv=cv, n_jobs=-1)\n",
    "# fit model\n",
    "#modelElasticNetCV.fit(X_train, y_train)\n",
    "# summarize chosen configuration\n",
    "#print('alpha: %f' % modelElasticNetCV.alpha_)\n",
    "#print('l1_ratio_: %f' % modelElasticNetCV.l1_ratio_)\n",
    "\n",
    "# alpha: 0.000000\n",
    "# l1_ratio_: 0.230000\n",
    "\n",
    "\n",
    "modelElasticNet = ElasticNet(alpha=0.0, l1_ratio=0.230)\n",
    "\n",
    "modelElasticNet.fit(X_train, y_train)\n",
    "y_predent = modelElasticNet.predict(X_test)\n",
    "\n",
    "print(\"r^2 on test data-elastic net : %f\" % r2_score(y_test, y_predent))"
   ]
  },
  {
   "cell_type": "code",
   "execution_count": null,
   "metadata": {},
   "outputs": [],
   "source": []
  }
 ],
 "metadata": {
  "kernelspec": {
   "display_name": "Python 3.9.6 64-bit",
   "language": "python",
   "name": "python3"
  },
  "language_info": {
   "codemirror_mode": {
    "name": "ipython",
    "version": 3
   },
   "file_extension": ".py",
   "mimetype": "text/x-python",
   "name": "python",
   "nbconvert_exporter": "python",
   "pygments_lexer": "ipython3",
   "version": "3.9.6"
  },
  "orig_nbformat": 4,
  "vscode": {
   "interpreter": {
    "hash": "11938c6bc6919ae2720b4d5011047913343b08a43b18698fd82dedb0d4417594"
   }
  }
 },
 "nbformat": 4,
 "nbformat_minor": 2
}
